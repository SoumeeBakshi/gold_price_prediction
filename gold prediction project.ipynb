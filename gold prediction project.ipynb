{
 "cells": [
  {
   "cell_type": "code",
   "execution_count": null,
   "id": "1b1738d8-d27a-4153-9544-699319774519",
   "metadata": {},
   "outputs": [],
   "source": []
  },
  {
   "cell_type": "code",
   "execution_count": 2,
   "id": "2b244211-583c-4de6-972d-25c83a7acc4f",
   "metadata": {},
   "outputs": [
    {
     "data": {
      "text/html": [
       "<div>\n",
       "<style scoped>\n",
       "    .dataframe tbody tr th:only-of-type {\n",
       "        vertical-align: middle;\n",
       "    }\n",
       "\n",
       "    .dataframe tbody tr th {\n",
       "        vertical-align: top;\n",
       "    }\n",
       "\n",
       "    .dataframe thead th {\n",
       "        text-align: right;\n",
       "    }\n",
       "</style>\n",
       "<table border=\"1\" class=\"dataframe\">\n",
       "  <thead>\n",
       "    <tr style=\"text-align: right;\">\n",
       "      <th></th>\n",
       "      <th>Date</th>\n",
       "      <th>SPX</th>\n",
       "      <th>GLD</th>\n",
       "      <th>USO</th>\n",
       "      <th>SLV</th>\n",
       "      <th>EUR/USD</th>\n",
       "    </tr>\n",
       "  </thead>\n",
       "  <tbody>\n",
       "    <tr>\n",
       "      <th>0</th>\n",
       "      <td>1/2/2008</td>\n",
       "      <td>1447.160034</td>\n",
       "      <td>84.860001</td>\n",
       "      <td>78.470001</td>\n",
       "      <td>15.180</td>\n",
       "      <td>1.471692</td>\n",
       "    </tr>\n",
       "    <tr>\n",
       "      <th>1</th>\n",
       "      <td>1/3/2008</td>\n",
       "      <td>1447.160034</td>\n",
       "      <td>85.570000</td>\n",
       "      <td>78.370003</td>\n",
       "      <td>15.285</td>\n",
       "      <td>1.474491</td>\n",
       "    </tr>\n",
       "    <tr>\n",
       "      <th>2</th>\n",
       "      <td>1/4/2008</td>\n",
       "      <td>1411.630005</td>\n",
       "      <td>85.129997</td>\n",
       "      <td>77.309998</td>\n",
       "      <td>15.167</td>\n",
       "      <td>1.475492</td>\n",
       "    </tr>\n",
       "    <tr>\n",
       "      <th>3</th>\n",
       "      <td>1/7/2008</td>\n",
       "      <td>1416.180054</td>\n",
       "      <td>84.769997</td>\n",
       "      <td>75.500000</td>\n",
       "      <td>15.053</td>\n",
       "      <td>1.468299</td>\n",
       "    </tr>\n",
       "    <tr>\n",
       "      <th>4</th>\n",
       "      <td>1/8/2008</td>\n",
       "      <td>1390.189941</td>\n",
       "      <td>86.779999</td>\n",
       "      <td>76.059998</td>\n",
       "      <td>15.590</td>\n",
       "      <td>1.557099</td>\n",
       "    </tr>\n",
       "  </tbody>\n",
       "</table>\n",
       "</div>"
      ],
      "text/plain": [
       "       Date          SPX        GLD        USO     SLV   EUR/USD\n",
       "0  1/2/2008  1447.160034  84.860001  78.470001  15.180  1.471692\n",
       "1  1/3/2008  1447.160034  85.570000  78.370003  15.285  1.474491\n",
       "2  1/4/2008  1411.630005  85.129997  77.309998  15.167  1.475492\n",
       "3  1/7/2008  1416.180054  84.769997  75.500000  15.053  1.468299\n",
       "4  1/8/2008  1390.189941  86.779999  76.059998  15.590  1.557099"
      ]
     },
     "execution_count": 2,
     "metadata": {},
     "output_type": "execute_result"
    }
   ],
   "source": [
    "import pandas as pd\n",
    "data = pd.read_csv('gld_price_data.csv', encoding='utf-8')\n",
    "data.head()\n"
   ]
  },
  {
   "cell_type": "code",
   "execution_count": 5,
   "id": "3ee2fbf3-2c50-416b-87c9-3d172e251bdd",
   "metadata": {},
   "outputs": [],
   "source": [
    "import numpy as np\n",
    "import pandas as pd\n",
    "import matplotlib.pyplot as plt\n",
    "from sklearn.model_selection import train_test_split\n",
    "from sklearn.ensemble import RandomForestRegressor\n",
    "from sklearn import metrics\n",
    "\n",
    "\n"
   ]
  },
  {
   "cell_type": "code",
   "execution_count": 7,
   "id": "4bfb67cd-a123-4e3f-b450-b566c9035848",
   "metadata": {},
   "outputs": [],
   "source": [
    "gold_data = pd.read_csv(r'C:\\Users\\soume\\Desktop\\DATA ANALYST\\gold price prediction\\gld_price_data.csv')\n"
   ]
  },
  {
   "cell_type": "code",
   "execution_count": 8,
   "id": "2c372268-dbde-474a-8b1d-950755d9ba1a",
   "metadata": {},
   "outputs": [
    {
     "data": {
      "text/html": [
       "<div>\n",
       "<style scoped>\n",
       "    .dataframe tbody tr th:only-of-type {\n",
       "        vertical-align: middle;\n",
       "    }\n",
       "\n",
       "    .dataframe tbody tr th {\n",
       "        vertical-align: top;\n",
       "    }\n",
       "\n",
       "    .dataframe thead th {\n",
       "        text-align: right;\n",
       "    }\n",
       "</style>\n",
       "<table border=\"1\" class=\"dataframe\">\n",
       "  <thead>\n",
       "    <tr style=\"text-align: right;\">\n",
       "      <th></th>\n",
       "      <th>Date</th>\n",
       "      <th>SPX</th>\n",
       "      <th>GLD</th>\n",
       "      <th>USO</th>\n",
       "      <th>SLV</th>\n",
       "      <th>EUR/USD</th>\n",
       "    </tr>\n",
       "  </thead>\n",
       "  <tbody>\n",
       "    <tr>\n",
       "      <th>0</th>\n",
       "      <td>1/2/2008</td>\n",
       "      <td>1447.160034</td>\n",
       "      <td>84.860001</td>\n",
       "      <td>78.470001</td>\n",
       "      <td>15.180</td>\n",
       "      <td>1.471692</td>\n",
       "    </tr>\n",
       "    <tr>\n",
       "      <th>1</th>\n",
       "      <td>1/3/2008</td>\n",
       "      <td>1447.160034</td>\n",
       "      <td>85.570000</td>\n",
       "      <td>78.370003</td>\n",
       "      <td>15.285</td>\n",
       "      <td>1.474491</td>\n",
       "    </tr>\n",
       "    <tr>\n",
       "      <th>2</th>\n",
       "      <td>1/4/2008</td>\n",
       "      <td>1411.630005</td>\n",
       "      <td>85.129997</td>\n",
       "      <td>77.309998</td>\n",
       "      <td>15.167</td>\n",
       "      <td>1.475492</td>\n",
       "    </tr>\n",
       "    <tr>\n",
       "      <th>3</th>\n",
       "      <td>1/7/2008</td>\n",
       "      <td>1416.180054</td>\n",
       "      <td>84.769997</td>\n",
       "      <td>75.500000</td>\n",
       "      <td>15.053</td>\n",
       "      <td>1.468299</td>\n",
       "    </tr>\n",
       "    <tr>\n",
       "      <th>4</th>\n",
       "      <td>1/8/2008</td>\n",
       "      <td>1390.189941</td>\n",
       "      <td>86.779999</td>\n",
       "      <td>76.059998</td>\n",
       "      <td>15.590</td>\n",
       "      <td>1.557099</td>\n",
       "    </tr>\n",
       "  </tbody>\n",
       "</table>\n",
       "</div>"
      ],
      "text/plain": [
       "       Date          SPX        GLD        USO     SLV   EUR/USD\n",
       "0  1/2/2008  1447.160034  84.860001  78.470001  15.180  1.471692\n",
       "1  1/3/2008  1447.160034  85.570000  78.370003  15.285  1.474491\n",
       "2  1/4/2008  1411.630005  85.129997  77.309998  15.167  1.475492\n",
       "3  1/7/2008  1416.180054  84.769997  75.500000  15.053  1.468299\n",
       "4  1/8/2008  1390.189941  86.779999  76.059998  15.590  1.557099"
      ]
     },
     "execution_count": 8,
     "metadata": {},
     "output_type": "execute_result"
    }
   ],
   "source": [
    "gold_data.head()"
   ]
  },
  {
   "cell_type": "code",
   "execution_count": 10,
   "id": "ed51ae78-e536-4ec9-9877-46609979139f",
   "metadata": {},
   "outputs": [
    {
     "data": {
      "text/html": [
       "<div>\n",
       "<style scoped>\n",
       "    .dataframe tbody tr th:only-of-type {\n",
       "        vertical-align: middle;\n",
       "    }\n",
       "\n",
       "    .dataframe tbody tr th {\n",
       "        vertical-align: top;\n",
       "    }\n",
       "\n",
       "    .dataframe thead th {\n",
       "        text-align: right;\n",
       "    }\n",
       "</style>\n",
       "<table border=\"1\" class=\"dataframe\">\n",
       "  <thead>\n",
       "    <tr style=\"text-align: right;\">\n",
       "      <th></th>\n",
       "      <th>Date</th>\n",
       "      <th>SPX</th>\n",
       "      <th>GLD</th>\n",
       "      <th>USO</th>\n",
       "      <th>SLV</th>\n",
       "      <th>EUR/USD</th>\n",
       "    </tr>\n",
       "  </thead>\n",
       "  <tbody>\n",
       "    <tr>\n",
       "      <th>2285</th>\n",
       "      <td>5/8/2018</td>\n",
       "      <td>2671.919922</td>\n",
       "      <td>124.589996</td>\n",
       "      <td>14.0600</td>\n",
       "      <td>15.5100</td>\n",
       "      <td>1.186789</td>\n",
       "    </tr>\n",
       "    <tr>\n",
       "      <th>2286</th>\n",
       "      <td>5/9/2018</td>\n",
       "      <td>2697.790039</td>\n",
       "      <td>124.330002</td>\n",
       "      <td>14.3700</td>\n",
       "      <td>15.5300</td>\n",
       "      <td>1.184722</td>\n",
       "    </tr>\n",
       "    <tr>\n",
       "      <th>2287</th>\n",
       "      <td>5/10/2018</td>\n",
       "      <td>2723.070068</td>\n",
       "      <td>125.180000</td>\n",
       "      <td>14.4100</td>\n",
       "      <td>15.7400</td>\n",
       "      <td>1.191753</td>\n",
       "    </tr>\n",
       "    <tr>\n",
       "      <th>2288</th>\n",
       "      <td>5/14/2018</td>\n",
       "      <td>2730.129883</td>\n",
       "      <td>124.489998</td>\n",
       "      <td>14.3800</td>\n",
       "      <td>15.5600</td>\n",
       "      <td>1.193118</td>\n",
       "    </tr>\n",
       "    <tr>\n",
       "      <th>2289</th>\n",
       "      <td>5/16/2018</td>\n",
       "      <td>2725.780029</td>\n",
       "      <td>122.543800</td>\n",
       "      <td>14.4058</td>\n",
       "      <td>15.4542</td>\n",
       "      <td>1.182033</td>\n",
       "    </tr>\n",
       "  </tbody>\n",
       "</table>\n",
       "</div>"
      ],
      "text/plain": [
       "           Date          SPX         GLD      USO      SLV   EUR/USD\n",
       "2285   5/8/2018  2671.919922  124.589996  14.0600  15.5100  1.186789\n",
       "2286   5/9/2018  2697.790039  124.330002  14.3700  15.5300  1.184722\n",
       "2287  5/10/2018  2723.070068  125.180000  14.4100  15.7400  1.191753\n",
       "2288  5/14/2018  2730.129883  124.489998  14.3800  15.5600  1.193118\n",
       "2289  5/16/2018  2725.780029  122.543800  14.4058  15.4542  1.182033"
      ]
     },
     "execution_count": 10,
     "metadata": {},
     "output_type": "execute_result"
    }
   ],
   "source": [
    "gold_data.tail()"
   ]
  },
  {
   "cell_type": "code",
   "execution_count": 12,
   "id": "f45480b3-5d77-4f93-9dfa-69e1592eccf4",
   "metadata": {},
   "outputs": [
    {
     "data": {
      "text/plain": [
       "(2290, 6)"
      ]
     },
     "execution_count": 12,
     "metadata": {},
     "output_type": "execute_result"
    }
   ],
   "source": [
    "gold_data.shape\n"
   ]
  },
  {
   "cell_type": "code",
   "execution_count": 13,
   "id": "7dab73b5-8aef-4443-8115-dc6a9c5c0ca9",
   "metadata": {},
   "outputs": [
    {
     "data": {
      "text/plain": [
       "<bound method DataFrame.info of            Date          SPX         GLD        USO      SLV   EUR/USD\n",
       "0      1/2/2008  1447.160034   84.860001  78.470001  15.1800  1.471692\n",
       "1      1/3/2008  1447.160034   85.570000  78.370003  15.2850  1.474491\n",
       "2      1/4/2008  1411.630005   85.129997  77.309998  15.1670  1.475492\n",
       "3      1/7/2008  1416.180054   84.769997  75.500000  15.0530  1.468299\n",
       "4      1/8/2008  1390.189941   86.779999  76.059998  15.5900  1.557099\n",
       "...         ...          ...         ...        ...      ...       ...\n",
       "2285   5/8/2018  2671.919922  124.589996  14.060000  15.5100  1.186789\n",
       "2286   5/9/2018  2697.790039  124.330002  14.370000  15.5300  1.184722\n",
       "2287  5/10/2018  2723.070068  125.180000  14.410000  15.7400  1.191753\n",
       "2288  5/14/2018  2730.129883  124.489998  14.380000  15.5600  1.193118\n",
       "2289  5/16/2018  2725.780029  122.543800  14.405800  15.4542  1.182033\n",
       "\n",
       "[2290 rows x 6 columns]>"
      ]
     },
     "execution_count": 13,
     "metadata": {},
     "output_type": "execute_result"
    }
   ],
   "source": [
    "gold_data.info"
   ]
  },
  {
   "cell_type": "code",
   "execution_count": 14,
   "id": "8cc39dc3-983d-489a-97b2-6a1e10961fa8",
   "metadata": {},
   "outputs": [
    {
     "name": "stdout",
     "output_type": "stream",
     "text": [
      "<class 'pandas.core.frame.DataFrame'>\n",
      "RangeIndex: 2290 entries, 0 to 2289\n",
      "Data columns (total 6 columns):\n",
      " #   Column   Non-Null Count  Dtype  \n",
      "---  ------   --------------  -----  \n",
      " 0   Date     2290 non-null   object \n",
      " 1   SPX      2290 non-null   float64\n",
      " 2   GLD      2290 non-null   float64\n",
      " 3   USO      2290 non-null   float64\n",
      " 4   SLV      2290 non-null   float64\n",
      " 5   EUR/USD  2290 non-null   float64\n",
      "dtypes: float64(5), object(1)\n",
      "memory usage: 107.5+ KB\n"
     ]
    }
   ],
   "source": [
    "gold_data.info()"
   ]
  },
  {
   "cell_type": "code",
   "execution_count": 15,
   "id": "b7ede4b1-5355-4b47-a9e7-35b9df087b51",
   "metadata": {},
   "outputs": [
    {
     "data": {
      "text/plain": [
       "Date       0\n",
       "SPX        0\n",
       "GLD        0\n",
       "USO        0\n",
       "SLV        0\n",
       "EUR/USD    0\n",
       "dtype: int64"
      ]
     },
     "execution_count": 15,
     "metadata": {},
     "output_type": "execute_result"
    }
   ],
   "source": [
    "gold_data.isnull().sum()"
   ]
  },
  {
   "cell_type": "code",
   "execution_count": 16,
   "id": "a3bc8feb-3a09-4abe-8867-88fa332e9684",
   "metadata": {},
   "outputs": [
    {
     "data": {
      "text/html": [
       "<div>\n",
       "<style scoped>\n",
       "    .dataframe tbody tr th:only-of-type {\n",
       "        vertical-align: middle;\n",
       "    }\n",
       "\n",
       "    .dataframe tbody tr th {\n",
       "        vertical-align: top;\n",
       "    }\n",
       "\n",
       "    .dataframe thead th {\n",
       "        text-align: right;\n",
       "    }\n",
       "</style>\n",
       "<table border=\"1\" class=\"dataframe\">\n",
       "  <thead>\n",
       "    <tr style=\"text-align: right;\">\n",
       "      <th></th>\n",
       "      <th>SPX</th>\n",
       "      <th>GLD</th>\n",
       "      <th>USO</th>\n",
       "      <th>SLV</th>\n",
       "      <th>EUR/USD</th>\n",
       "    </tr>\n",
       "  </thead>\n",
       "  <tbody>\n",
       "    <tr>\n",
       "      <th>count</th>\n",
       "      <td>2290.000000</td>\n",
       "      <td>2290.000000</td>\n",
       "      <td>2290.000000</td>\n",
       "      <td>2290.000000</td>\n",
       "      <td>2290.000000</td>\n",
       "    </tr>\n",
       "    <tr>\n",
       "      <th>mean</th>\n",
       "      <td>1654.315776</td>\n",
       "      <td>122.732875</td>\n",
       "      <td>31.842221</td>\n",
       "      <td>20.084997</td>\n",
       "      <td>1.283653</td>\n",
       "    </tr>\n",
       "    <tr>\n",
       "      <th>std</th>\n",
       "      <td>519.111540</td>\n",
       "      <td>23.283346</td>\n",
       "      <td>19.523517</td>\n",
       "      <td>7.092566</td>\n",
       "      <td>0.131547</td>\n",
       "    </tr>\n",
       "    <tr>\n",
       "      <th>min</th>\n",
       "      <td>676.530029</td>\n",
       "      <td>70.000000</td>\n",
       "      <td>7.960000</td>\n",
       "      <td>8.850000</td>\n",
       "      <td>1.039047</td>\n",
       "    </tr>\n",
       "    <tr>\n",
       "      <th>25%</th>\n",
       "      <td>1239.874969</td>\n",
       "      <td>109.725000</td>\n",
       "      <td>14.380000</td>\n",
       "      <td>15.570000</td>\n",
       "      <td>1.171313</td>\n",
       "    </tr>\n",
       "    <tr>\n",
       "      <th>50%</th>\n",
       "      <td>1551.434998</td>\n",
       "      <td>120.580002</td>\n",
       "      <td>33.869999</td>\n",
       "      <td>17.268500</td>\n",
       "      <td>1.303297</td>\n",
       "    </tr>\n",
       "    <tr>\n",
       "      <th>75%</th>\n",
       "      <td>2073.010070</td>\n",
       "      <td>132.840004</td>\n",
       "      <td>37.827501</td>\n",
       "      <td>22.882500</td>\n",
       "      <td>1.369971</td>\n",
       "    </tr>\n",
       "    <tr>\n",
       "      <th>max</th>\n",
       "      <td>2872.870117</td>\n",
       "      <td>184.589996</td>\n",
       "      <td>117.480003</td>\n",
       "      <td>47.259998</td>\n",
       "      <td>1.598798</td>\n",
       "    </tr>\n",
       "  </tbody>\n",
       "</table>\n",
       "</div>"
      ],
      "text/plain": [
       "               SPX          GLD          USO          SLV      EUR/USD\n",
       "count  2290.000000  2290.000000  2290.000000  2290.000000  2290.000000\n",
       "mean   1654.315776   122.732875    31.842221    20.084997     1.283653\n",
       "std     519.111540    23.283346    19.523517     7.092566     0.131547\n",
       "min     676.530029    70.000000     7.960000     8.850000     1.039047\n",
       "25%    1239.874969   109.725000    14.380000    15.570000     1.171313\n",
       "50%    1551.434998   120.580002    33.869999    17.268500     1.303297\n",
       "75%    2073.010070   132.840004    37.827501    22.882500     1.369971\n",
       "max    2872.870117   184.589996   117.480003    47.259998     1.598798"
      ]
     },
     "execution_count": 16,
     "metadata": {},
     "output_type": "execute_result"
    }
   ],
   "source": [
    "gold_data.describe()"
   ]
  },
  {
   "cell_type": "code",
   "execution_count": 18,
   "id": "c44a5f13-078a-4e6b-9c56-ea687f4fd812",
   "metadata": {},
   "outputs": [],
   "source": [
    "correlation = gold_data.corr(numeric_only=True)\n"
   ]
  },
  {
   "cell_type": "code",
   "execution_count": 20,
   "id": "38d5b0dd-060e-4745-b18d-e541b6175b1b",
   "metadata": {},
   "outputs": [],
   "source": [
    "import seaborn as sns\n"
   ]
  },
  {
   "cell_type": "code",
   "execution_count": 21,
   "id": "b2da81e8-c945-4e8e-81f9-be222278a13f",
   "metadata": {},
   "outputs": [
    {
     "data": {
      "image/png": "[encoded data removed]",
      "text/plain": [
       "<Figure size 800x800 with 2 Axes>"
      ]
     },
     "metadata": {},
     "output_type": "display_data"
    }
   ],
   "source": [
    "\n",
    "\n",
    "plt.figure(figsize=(8,8))\n",
    "sns.heatmap(correlation, cbar=True, square=True, fmt='.1f', annot=True, annot_kws={'size':8}, cmap='Blues')\n",
    "plt.show()\n"
   ]
  },
  {
   "cell_type": "code",
   "execution_count": 9,
   "id": "e3e64abe-9656-49ab-bc58-340336d8daf7",
   "metadata": {},
   "outputs": [
    {
     "name": "stdout",
     "output_type": "stream",
     "text": [
      "SPX        0.049345\n",
      "GLD        1.000000\n",
      "USO       -0.186360\n",
      "SLV        0.866632\n",
      "EUR/USD   -0.024375\n",
      "Name: GLD, dtype: float64\n"
     ]
    }
   ],
   "source": [
    "import pandas as pd\n",
    "\n",
    "# Load your dataset (replace with your actual CSV file name)\n",
    "df = pd.read_csv('gld_price_data.csv', encoding='utf-8')\n",
    "\n",
    "# Now compute correlation\n",
    "correlation = df.select_dtypes(include=['number']).corr()\n",
    "print(correlation['GLD'])\n"
   ]
  },
  {
   "cell_type": "code",
   "execution_count": 17,
   "id": "acd7195c-2234-4ec3-a2a6-872bd4d1d18b",
   "metadata": {},
   "outputs": [
    {
     "name": "stdout",
     "output_type": "stream",
     "text": [
      "       Date          SPX        GLD        USO     SLV   EUR/USD\n",
      "0  1/2/2008  1447.160034  84.860001  78.470001  15.180  1.471692\n",
      "1  1/3/2008  1447.160034  85.570000  78.370003  15.285  1.474491\n",
      "2  1/4/2008  1411.630005  85.129997  77.309998  15.167  1.475492\n",
      "3  1/7/2008  1416.180054  84.769997  75.500000  15.053  1.468299\n",
      "4  1/8/2008  1390.189941  86.779999  76.059998  15.590  1.557099\n"
     ]
    }
   ],
   "source": [
    "gold_data = pd.read_csv(r'C:\\Users\\soume\\Desktop\\DATA ANALYST\\gold price prediction\\gld_price_data.csv')\n",
    "print(gold_data.head())\n"
   ]
  },
  {
   "cell_type": "code",
   "execution_count": 15,
   "id": "e00e5d4f-a1c1-47a2-aeda-39dd0e4ef84b",
   "metadata": {},
   "outputs": [
    {
     "data": {
      "text/plain": [
       "<seaborn.axisgrid.FacetGrid at 0x1dcdb0c2e40>"
      ]
     },
     "execution_count": 15,
     "metadata": {},
     "output_type": "execute_result"
    },
    {
     "data": {
      "image/png": "[encoded data removed]",
      "text/plain": [
       "<Figure size 500x500 with 1 Axes>"
      ]
     },
     "metadata": {},
     "output_type": "display_data"
    }
   ],
   "source": [
    "import seaborn as sns\n",
    "sns.displot(gold_data['GLD'], color='green')\n"
   ]
  },
  {
   "cell_type": "code",
   "execution_count": 19,
   "id": "c2df090e-ef3d-4481-a1e4-e1b4f745cf60",
   "metadata": {},
   "outputs": [],
   "source": [
    "import pandas as pd\n",
    "\n",
    "# Load your dataset (replace with your actual CSV file name)\n",
    "df = pd.read_csv('gld_price_data.csv', encoding='utf-8')"
   ]
  },
  {
   "cell_type": "code",
   "execution_count": 20,
   "id": "00e17c35-d626-471d-9cba-d160838a21f9",
   "metadata": {},
   "outputs": [
    {
     "name": "stdout",
     "output_type": "stream",
     "text": [
      "       Date          SPX        GLD        USO     SLV   EUR/USD\n",
      "0  1/2/2008  1447.160034  84.860001  78.470001  15.180  1.471692\n",
      "1  1/3/2008  1447.160034  85.570000  78.370003  15.285  1.474491\n",
      "2  1/4/2008  1411.630005  85.129997  77.309998  15.167  1.475492\n",
      "3  1/7/2008  1416.180054  84.769997  75.500000  15.053  1.468299\n",
      "4  1/8/2008  1390.189941  86.779999  76.059998  15.590  1.557099\n"
     ]
    }
   ],
   "source": [
    "gold_data = pd.read_csv(r'C:\\Users\\soume\\Desktop\\DATA ANALYST\\gold price prediction\\gld_price_data.csv')\n",
    "print(gold_data.head())"
   ]
  },
  {
   "cell_type": "code",
   "execution_count": 23,
   "id": "3f66cbc7-d93b-4cbd-8b29-7d384fecc0b3",
   "metadata": {},
   "outputs": [],
   "source": [
    "X=gold_data.drop(['Date','GLD'],axis=1)\n",
    "Y=gold_data['GLD']"
   ]
  },
  {
   "cell_type": "code",
   "execution_count": 24,
   "id": "6cc2463d-b30e-48ff-9c37-02aeb850dae8",
   "metadata": {},
   "outputs": [
    {
     "name": "stdout",
     "output_type": "stream",
     "text": [
      "              SPX        USO      SLV   EUR/USD\n",
      "0     1447.160034  78.470001  15.1800  1.471692\n",
      "1     1447.160034  78.370003  15.2850  1.474491\n",
      "2     1411.630005  77.309998  15.1670  1.475492\n",
      "3     1416.180054  75.500000  15.0530  1.468299\n",
      "4     1390.189941  76.059998  15.5900  1.557099\n",
      "...           ...        ...      ...       ...\n",
      "2285  2671.919922  14.060000  15.5100  1.186789\n",
      "2286  2697.790039  14.370000  15.5300  1.184722\n",
      "2287  2723.070068  14.410000  15.7400  1.191753\n",
      "2288  2730.129883  14.380000  15.5600  1.193118\n",
      "2289  2725.780029  14.405800  15.4542  1.182033\n",
      "\n",
      "[2290 rows x 4 columns]\n"
     ]
    }
   ],
   "source": [
    "print(X)"
   ]
  },
  {
   "cell_type": "code",
   "execution_count": 25,
   "id": "5e9f9580-0379-41f5-a118-cc10135473ca",
   "metadata": {},
   "outputs": [
    {
     "name": "stdout",
     "output_type": "stream",
     "text": [
      "0        84.860001\n",
      "1        85.570000\n",
      "2        85.129997\n",
      "3        84.769997\n",
      "4        86.779999\n",
      "           ...    \n",
      "2285    124.589996\n",
      "2286    124.330002\n",
      "2287    125.180000\n",
      "2288    124.489998\n",
      "2289    122.543800\n",
      "Name: GLD, Length: 2290, dtype: float64\n"
     ]
    }
   ],
   "source": [
    "print(Y)"
   ]
  },
  {
   "cell_type": "code",
   "execution_count": 26,
   "id": "c2a4dc81-41f1-402a-91e0-46e41ca0d5ca",
   "metadata": {},
   "outputs": [],
   "source": [
    "from sklearn.model_selection import train_test_split\n"
   ]
  },
  {
   "cell_type": "code",
   "execution_count": 30,
   "id": "3fd3ec08-4434-43aa-8a1b-83a43352a32d",
   "metadata": {},
   "outputs": [],
   "source": [
    "X_train,X_test,Y_train,Y_test=train_test_split(X,Y, test_size=0.2,random_state=2)"
   ]
  },
  {
   "cell_type": "code",
   "execution_count": 31,
   "id": "3f04d897-a862-4d51-9eb1-ccd304fb7c55",
   "metadata": {},
   "outputs": [],
   "source": [
    "from sklearn.ensemble import RandomForestRegressor"
   ]
  },
  {
   "cell_type": "code",
   "execution_count": 34,
   "id": "baacf4f6-115c-46dd-a121-424962c826e9",
   "metadata": {},
   "outputs": [],
   "source": [
    "regressor=RandomForestRegressor(n_estimators=100)"
   ]
  },
  {
   "cell_type": "raw",
   "id": "ec5a64d5-58f5-446a-b9b7-b9e92654ac0a",
   "metadata": {},
   "source": [
    "regressor.fit(X_train, Y_train)\n"
   ]
  },
  {
   "cell_type": "code",
   "execution_count": 36,
   "id": "a1cfbc8b-c2f5-4fa9-9c0c-ea9539d830ae",
   "metadata": {},
   "outputs": [
    {
     "name": "stdout",
     "output_type": "stream",
     "text": [
      "RandomForestRegressor()\n"
     ]
    }
   ],
   "source": [
    "regressor = RandomForestRegressor(n_estimators=100)\n",
    "regressor.fit(X_train, Y_train)\n",
    "print(regressor)\n"
   ]
  },
  {
   "cell_type": "code",
   "execution_count": 37,
   "id": "b3c3ca49-2deb-456d-844f-df9b7eaceccd",
   "metadata": {},
   "outputs": [
    {
     "name": "stdout",
     "output_type": "stream",
     "text": [
      "{'bootstrap': True, 'ccp_alpha': 0.0, 'criterion': 'squared_error', 'max_depth': None, 'max_features': 1.0, 'max_leaf_nodes': None, 'max_samples': None, 'min_impurity_decrease': 0.0, 'min_samples_leaf': 1, 'min_samples_split': 2, 'min_weight_fraction_leaf': 0.0, 'monotonic_cst': None, 'n_estimators': 100, 'n_jobs': None, 'oob_score': False, 'random_state': None, 'verbose': 0, 'warm_start': False}\n"
     ]
    }
   ],
   "source": [
    "print(regressor.get_params())\n"
   ]
  },
  {
   "cell_type": "code",
   "execution_count": 38,
   "id": "9218bc9b-3af8-4e3c-8e7c-9e1e2f2a457b",
   "metadata": {},
   "outputs": [],
   "source": [
    "test_data_prediction=regressor.predict(X_test)\n",
    "                     "
   ]
  },
  {
   "cell_type": "code",
   "execution_count": 39,
   "id": "d510ca74-9250-4eb3-a719-b8266f7891ca",
   "metadata": {},
   "outputs": [
    {
     "name": "stdout",
     "output_type": "stream",
     "text": [
      "[168.15489904  82.24029983 115.92310037 127.49300074 120.6979014\n",
      " 154.78229752 150.50829858 126.1592997  117.47339859 125.96330077\n",
      " 116.6583011  172.32680066 141.38249795 168.04289869 115.14860001\n",
      " 117.91530052 139.01320298 170.01460076 159.98950297 157.48569905\n",
      " 155.23980018 125.25780028 176.05459969 157.12240282 125.21530067\n",
      "  93.91649949  77.32260017 120.39189994 119.12129946 167.41009962\n",
      "  88.32490021 125.26379985  91.00110063 117.66350013 121.20339927\n",
      " 136.73530112 115.45410091 114.90210064 146.78769912 107.07330088\n",
      " 104.48140241  87.09309767 126.55410045 117.85260015 153.59999911\n",
      " 119.72960011 108.45729988 108.13819848  93.03630021 127.13279767\n",
      "  74.58310039 113.8975993  121.42039999 111.17719919 118.86849917\n",
      " 120.84729953 158.78980035 167.81070038 147.236597    85.90749895\n",
      "  94.51769997  86.92889899  90.53420015 118.98170057 126.469701\n",
      " 127.46330039 169.00460031 122.39599913 117.25899917  98.45860017\n",
      " 168.208801   143.07469885 132.25550238 121.24010245 121.33899959\n",
      " 119.72770091 114.4899013  118.15990032 107.13580103 127.89150075\n",
      " 113.98299976 107.23720014 116.7985005  119.58849888  89.07770076\n",
      "  88.22759861 146.70100278 127.28049988 113.38580005 110.05759833\n",
      " 108.2038988   77.97199899 168.24880171 114.00229916 121.63239883\n",
      " 128.059102   154.99769809  91.83409913 134.59500111 158.81770368\n",
      " 124.58560029 125.28950075 130.55250148 114.78260102 119.66289967\n",
      "  91.96049985 110.11429887 167.62349955 157.11759871 114.20359948\n",
      " 106.73290141  79.52889983 113.2288007  125.76630075 107.51889937\n",
      " 119.15670101 155.5584028  159.723899   120.61490009 135.61500271\n",
      " 101.57989967 117.58989777 119.22580014 112.95260082 102.79669897\n",
      " 160.27719728  99.24310035 148.01839895 125.54630088 169.1753994\n",
      " 125.91269859 127.27719788 127.34080152 113.59769961 113.2636008\n",
      " 123.62579904 102.13069877  89.12229978 124.53319957 101.29289949\n",
      " 107.06799942 113.52920073 117.14480067  99.48939958 121.84130034\n",
      " 163.45009911  87.4211989  106.7671996  117.17240098 127.64070158\n",
      " 124.09440089  80.6083996  120.23120035 157.2886983   87.88999977\n",
      " 110.15999988 118.88159916 172.88589818 103.01009919 105.27630054\n",
      " 122.44390012 158.10359753  87.62509827  93.02040086 112.6609003\n",
      " 177.43269934 114.69579943 119.24690023  95.22280124 125.57390056\n",
      " 165.96490019 114.76300059 116.64220127  88.32639862 148.82860107\n",
      " 120.4346994   89.57939944 112.36630042 117.49560002 118.66560129\n",
      "  88.26469942  94.4509     116.9074999  118.51500168 120.34400053\n",
      " 126.64929844 121.86359976 150.86189998 164.93100038 118.51659978\n",
      " 120.28560152 149.95050036 118.26099925 173.13089877 105.38509914\n",
      " 104.99290115 149.23090117 113.9633005  124.96100101 147.65839897\n",
      " 119.60340106 115.20100052 112.66040031 113.50940227 142.0481019\n",
      " 117.83279769 102.94820055 115.87370096 103.75200179  99.27350042\n",
      " 117.33300082  90.68500004  91.4618006  153.52909887 102.73049976\n",
      " 154.40840079 114.34330186 138.17360156  90.05479795 115.45889933\n",
      " 114.07159979 123.14890023 121.72520033 165.61510128  92.87839922\n",
      " 135.80520151 121.38399927 120.81030053 104.6639     141.65080248\n",
      " 122.04799897 116.54570037 113.69080078 127.00839756 122.80229919\n",
      " 125.76159941 121.23150035  86.90599883 132.40960202 143.61510209\n",
      "  92.77529976 159.23399909 158.28330315 126.33459907 164.40579941\n",
      " 108.93629991 109.53870058 103.74849864  94.20520091 127.95000299\n",
      " 107.0247003  161.50209936 121.8627003  132.04650035 130.52190175\n",
      " 161.22540033  90.15679853 175.59930228 127.16870035 126.73719839\n",
      "  86.3434992  124.56349896 150.19489734  89.6737996  107.00399964\n",
      " 108.89059989  84.20249905 136.16220055 155.06630305 139.0998038\n",
      "  74.79440028 152.10260118 126.3729     126.82060015 127.49859897\n",
      " 108.67559968 156.35239986 114.45600089 116.83560082 125.18179954\n",
      " 153.94060126 121.38860011 156.3351993   92.86540061 125.40870116\n",
      " 125.6067001   88.02420036  92.10299907 126.32439945 128.11180332\n",
      " 113.09580046 117.38599729 120.96989995 126.99219781 119.76840093\n",
      " 136.52690097  93.95749914 119.59920031 113.08570114  94.47659963\n",
      " 108.78979934  87.0148993  108.88839929  89.64549981  92.36349995\n",
      " 131.52100243 162.16370018  89.11090033 119.64740074 133.31570191\n",
      " 123.84330023 128.32340163 102.02299858  89.01329893 131.32890094\n",
      " 120.23910024 108.69849982 167.45060093 115.3130004   86.536899\n",
      " 118.74750064  90.94259939 161.79370067 116.56390027 121.88880028\n",
      " 160.15819788 120.20769946 112.69179932 108.41649844 126.62469978\n",
      "  75.78670042 102.99059978 127.96990267 121.7451995   92.65289974\n",
      " 131.7056013  118.16520156 116.10060043 154.46370275 158.94020098\n",
      " 109.94849957 152.99309763 119.27950066 160.51979992 118.5596003\n",
      " 157.11309975 115.04969977 116.76080027 149.90869816 114.63130046\n",
      " 125.81379901 165.84759832 117.69019985 125.0157993  152.96740391\n",
      " 153.36070204 132.17780055 114.79560022 121.29250225 124.66050056\n",
      "  89.59280047 122.91480005 155.00830123 111.74370047 106.75109982\n",
      " 161.57990119 118.68409982 165.74940061 134.10400076 114.98009973\n",
      " 153.09339979 168.50349947 114.69190009 114.04070122 159.32849935\n",
      "  85.43109883 127.14200063 128.11200031 128.74360041 124.35900072\n",
      " 123.87260074  90.6083009  153.33769992  97.13219991 137.62359945\n",
      "  89.0144991  107.27760021 114.95460046 112.88240064 124.16019913\n",
      "  91.43149861 125.33350122 162.36099789 119.9303991  165.23670072\n",
      " 126.64139825 112.29990008 127.49749967  95.23469929  91.00469967\n",
      " 102.98019902 120.82139956  83.19709948 126.3059999  160.91290462\n",
      " 117.18580061 118.25739987 119.44159966 122.54019966 120.05970121\n",
      " 121.43390008 118.1991007  106.84799994 148.55090055 126.06589864\n",
      " 115.78450101  74.27580003 127.782201   154.84190069 121.65689999\n",
      " 125.62460073  88.88510006 102.76429823 124.52730027 120.14100039\n",
      "  73.53630072 152.0214993  121.16800028 104.84340011  86.6217977\n",
      " 115.29879926 172.12429812 119.87640024 159.66449828 113.10089941\n",
      " 121.22220013 118.66400143  96.10289988 118.73480044 125.71060028\n",
      " 118.58979979  96.31900085 153.95840185 122.2826001  148.03809968\n",
      " 159.27830282 114.06019999 122.46059922 148.90839846 127.45180048\n",
      " 165.62910071 136.80190067 119.91479981 167.23519943 108.43919941\n",
      " 121.81929851 138.98000129 106.51439904]\n"
     ]
    }
   ],
   "source": [
    "print(test_data_prediction)"
   ]
  },
  {
   "cell_type": "code",
   "execution_count": 40,
   "id": "f2a5ba97-5441-4b58-a3b0-1cb469e2948f",
   "metadata": {},
   "outputs": [],
   "source": [
    "from sklearn import metrics"
   ]
  },
  {
   "cell_type": "code",
   "execution_count": 45,
   "id": "0a18d93e-e6ef-4830-9eee-c63308247f58",
   "metadata": {},
   "outputs": [],
   "source": [
    "error_score=metrics.r2_score(test_data_prediction,Y_test)"
   ]
  },
  {
   "cell_type": "raw",
   "id": "10b8b74b-9691-47f6-a13d-a08bf35dd768",
   "metadata": {},
   "source": [
    "print(error_score)"
   ]
  },
  {
   "cell_type": "code",
   "execution_count": 47,
   "id": "343af176-fe3a-4439-a6ae-d64294a2e05f",
   "metadata": {},
   "outputs": [
    {
     "name": "stdout",
     "output_type": "stream",
     "text": [
      "R squared error: 0.9889135582066435\n"
     ]
    }
   ],
   "source": [
    "print(\"R squared error:\", error_score)"
   ]
  },
  {
   "cell_type": "code",
   "execution_count": 48,
   "id": "1f27ac79-5d48-4d52-89b8-3b5cceeac275",
   "metadata": {},
   "outputs": [],
   "source": [
    "Y_test=list(Y_test)"
   ]
  },
  {
   "cell_type": "code",
   "execution_count": 50,
   "id": "fdc4fbce-54bc-4b28-8722-e35b4a79996b",
   "metadata": {},
   "outputs": [],
   "source": [
    "import matplotlib.pyplot as plt"
   ]
  },
  {
   "cell_type": "code",
   "execution_count": 52,
   "id": "51deb422-7200-41d6-bd31-65ecf96ae2fe",
   "metadata": {},
   "outputs": [
    {
     "data": {
      "image/png": "[encoded data removed]",
      "text/plain": [
       "<Figure size 640x480 with 1 Axes>"
      ]
     },
     "metadata": {},
     "output_type": "display_data"
    }
   ],
   "source": [
    "plt.plot(Y_test,color='blue',label='Actual Value')\n",
    "plt.plot(test_data_prediction,color='green',label='Predicted value')\n",
    "plt.title(\"Actual price vs Predicted price\")\n",
    "plt.xlabel(\"Number of values\")\n",
    "plt.ylabel(\"Gold price\")\n",
    "plt.legend()\n",
    "plt.show()"
   ]
  },
  {
   "cell_type": "code",
   "execution_count": null,
   "id": "f4f67ef4-c5e2-4fae-9678-d32163d13681",
   "metadata": {},
   "outputs": [],
   "source": []
  }
 ],
 "metadata": {
  "kernelspec": {
   "display_name": "Python 3 (ipykernel)",
   "language": "python",
   "name": "python3"
  },
  "language_info": {
   "codemirror_mode": {
    "name": "ipython",
    "version": 3
   },
   "file_extension": ".py",
   "mimetype": "text/x-python",
   "name": "python",
   "nbconvert_exporter": "python",
   "pygments_lexer": "ipython3",
   "version": "3.13.3"
  }
 },
 "nbformat": 4,
 "nbformat_minor": 5
}
